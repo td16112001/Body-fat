{
 "cells": [
  {
   "cell_type": "code",
   "execution_count": 1,
   "id": "84a94948-3c06-4ff0-8546-eca04edaa615",
   "metadata": {},
   "outputs": [],
   "source": [
    "import numpy as np\n",
    "import pandas as pd\n",
    "import matplotlib.pyplot as plt\n",
    "import seaborn as sns"
   ]
  },
  {
   "cell_type": "code",
   "execution_count": 2,
   "id": "c549cc10-757b-4a73-999f-a40f5dc68ee4",
   "metadata": {},
   "outputs": [],
   "source": [
    "data=pd.read_csv(\"bodyfat.csv\")"
   ]
  },
  {
   "cell_type": "code",
   "execution_count": 3,
   "id": "b3385a17-70e8-4027-9372-3617a24a6594",
   "metadata": {},
   "outputs": [
    {
     "data": {
      "text/html": [
       "<div>\n",
       "<style scoped>\n",
       "    .dataframe tbody tr th:only-of-type {\n",
       "        vertical-align: middle;\n",
       "    }\n",
       "\n",
       "    .dataframe tbody tr th {\n",
       "        vertical-align: top;\n",
       "    }\n",
       "\n",
       "    .dataframe thead th {\n",
       "        text-align: right;\n",
       "    }\n",
       "</style>\n",
       "<table border=\"1\" class=\"dataframe\">\n",
       "  <thead>\n",
       "    <tr style=\"text-align: right;\">\n",
       "      <th></th>\n",
       "      <th>Density</th>\n",
       "      <th>BodyFat</th>\n",
       "      <th>Age</th>\n",
       "      <th>Weight</th>\n",
       "      <th>Height</th>\n",
       "      <th>Neck</th>\n",
       "      <th>Chest</th>\n",
       "      <th>Abdomen</th>\n",
       "      <th>Hip</th>\n",
       "      <th>Thigh</th>\n",
       "      <th>Knee</th>\n",
       "      <th>Ankle</th>\n",
       "      <th>Biceps</th>\n",
       "      <th>Forearm</th>\n",
       "      <th>Wrist</th>\n",
       "    </tr>\n",
       "  </thead>\n",
       "  <tbody>\n",
       "    <tr>\n",
       "      <th>0</th>\n",
       "      <td>1.025</td>\n",
       "      <td>32.9</td>\n",
       "      <td>44</td>\n",
       "      <td>205.00</td>\n",
       "      <td>29.50</td>\n",
       "      <td>36.600000</td>\n",
       "      <td>106.000000</td>\n",
       "      <td>104.300000</td>\n",
       "      <td>115.500000</td>\n",
       "      <td>70.6</td>\n",
       "      <td>42.500000</td>\n",
       "      <td>23.7</td>\n",
       "      <td>33.600000</td>\n",
       "      <td>28.7</td>\n",
       "      <td>17.4</td>\n",
       "    </tr>\n",
       "    <tr>\n",
       "      <th>1</th>\n",
       "      <td>0.995</td>\n",
       "      <td>29.0</td>\n",
       "      <td>51</td>\n",
       "      <td>219.00</td>\n",
       "      <td>64.00</td>\n",
       "      <td>41.200001</td>\n",
       "      <td>119.800003</td>\n",
       "      <td>122.099998</td>\n",
       "      <td>112.800003</td>\n",
       "      <td>62.5</td>\n",
       "      <td>36.900002</td>\n",
       "      <td>23.6</td>\n",
       "      <td>34.700001</td>\n",
       "      <td>29.1</td>\n",
       "      <td>18.4</td>\n",
       "    </tr>\n",
       "    <tr>\n",
       "      <th>2</th>\n",
       "      <td>1.068</td>\n",
       "      <td>13.5</td>\n",
       "      <td>55</td>\n",
       "      <td>125.00</td>\n",
       "      <td>64.00</td>\n",
       "      <td>33.200000</td>\n",
       "      <td>87.700000</td>\n",
       "      <td>76.000000</td>\n",
       "      <td>88.600000</td>\n",
       "      <td>50.9</td>\n",
       "      <td>35.400000</td>\n",
       "      <td>19.1</td>\n",
       "      <td>29.300000</td>\n",
       "      <td>25.7</td>\n",
       "      <td>16.9</td>\n",
       "    </tr>\n",
       "    <tr>\n",
       "      <th>3</th>\n",
       "      <td>0.995</td>\n",
       "      <td>47.5</td>\n",
       "      <td>51</td>\n",
       "      <td>219.00</td>\n",
       "      <td>64.00</td>\n",
       "      <td>41.200000</td>\n",
       "      <td>119.800000</td>\n",
       "      <td>122.100000</td>\n",
       "      <td>112.800000</td>\n",
       "      <td>62.5</td>\n",
       "      <td>36.900000</td>\n",
       "      <td>23.6</td>\n",
       "      <td>34.700000</td>\n",
       "      <td>29.1</td>\n",
       "      <td>18.4</td>\n",
       "    </tr>\n",
       "    <tr>\n",
       "      <th>4</th>\n",
       "      <td>1.091</td>\n",
       "      <td>3.7</td>\n",
       "      <td>27</td>\n",
       "      <td>133.25</td>\n",
       "      <td>64.75</td>\n",
       "      <td>36.400000</td>\n",
       "      <td>93.500000</td>\n",
       "      <td>73.900000</td>\n",
       "      <td>88.500000</td>\n",
       "      <td>50.1</td>\n",
       "      <td>34.500000</td>\n",
       "      <td>21.3</td>\n",
       "      <td>30.500000</td>\n",
       "      <td>27.9</td>\n",
       "      <td>17.2</td>\n",
       "    </tr>\n",
       "  </tbody>\n",
       "</table>\n",
       "</div>"
      ],
      "text/plain": [
       "   Density  BodyFat  Age  Weight  Height       Neck       Chest     Abdomen  \\\n",
       "0    1.025     32.9   44  205.00   29.50  36.600000  106.000000  104.300000   \n",
       "1    0.995     29.0   51  219.00   64.00  41.200001  119.800003  122.099998   \n",
       "2    1.068     13.5   55  125.00   64.00  33.200000   87.700000   76.000000   \n",
       "3    0.995     47.5   51  219.00   64.00  41.200000  119.800000  122.100000   \n",
       "4    1.091      3.7   27  133.25   64.75  36.400000   93.500000   73.900000   \n",
       "\n",
       "          Hip  Thigh       Knee  Ankle     Biceps  Forearm  Wrist  \n",
       "0  115.500000   70.6  42.500000   23.7  33.600000     28.7   17.4  \n",
       "1  112.800003   62.5  36.900002   23.6  34.700001     29.1   18.4  \n",
       "2   88.600000   50.9  35.400000   19.1  29.300000     25.7   16.9  \n",
       "3  112.800000   62.5  36.900000   23.6  34.700000     29.1   18.4  \n",
       "4   88.500000   50.1  34.500000   21.3  30.500000     27.9   17.2  "
      ]
     },
     "execution_count": 3,
     "metadata": {},
     "output_type": "execute_result"
    }
   ],
   "source": [
    "data.head()"
   ]
  },
  {
   "cell_type": "code",
   "execution_count": 4,
   "id": "57cbe77a-b66d-4398-82cb-3808ce473997",
   "metadata": {},
   "outputs": [
    {
     "data": {
      "text/html": [
       "<div>\n",
       "<style scoped>\n",
       "    .dataframe tbody tr th:only-of-type {\n",
       "        vertical-align: middle;\n",
       "    }\n",
       "\n",
       "    .dataframe tbody tr th {\n",
       "        vertical-align: top;\n",
       "    }\n",
       "\n",
       "    .dataframe thead th {\n",
       "        text-align: right;\n",
       "    }\n",
       "</style>\n",
       "<table border=\"1\" class=\"dataframe\">\n",
       "  <thead>\n",
       "    <tr style=\"text-align: right;\">\n",
       "      <th></th>\n",
       "      <th>Density</th>\n",
       "      <th>BodyFat</th>\n",
       "      <th>Age</th>\n",
       "      <th>Weight</th>\n",
       "      <th>Height</th>\n",
       "      <th>Neck</th>\n",
       "      <th>Chest</th>\n",
       "      <th>Abdomen</th>\n",
       "      <th>Hip</th>\n",
       "      <th>Thigh</th>\n",
       "      <th>Knee</th>\n",
       "      <th>Ankle</th>\n",
       "      <th>Biceps</th>\n",
       "      <th>Forearm</th>\n",
       "      <th>Wrist</th>\n",
       "    </tr>\n",
       "  </thead>\n",
       "  <tbody>\n",
       "    <tr>\n",
       "      <th>300</th>\n",
       "      <td>1.0593</td>\n",
       "      <td>17.3</td>\n",
       "      <td>43</td>\n",
       "      <td>194.00</td>\n",
       "      <td>75.50</td>\n",
       "      <td>38.5</td>\n",
       "      <td>110.1</td>\n",
       "      <td>88.7</td>\n",
       "      <td>102.1</td>\n",
       "      <td>57.5</td>\n",
       "      <td>40.0</td>\n",
       "      <td>24.8</td>\n",
       "      <td>35.1</td>\n",
       "      <td>30.7</td>\n",
       "      <td>19.2</td>\n",
       "    </tr>\n",
       "    <tr>\n",
       "      <th>301</th>\n",
       "      <td>1.0812</td>\n",
       "      <td>7.8</td>\n",
       "      <td>27</td>\n",
       "      <td>216.00</td>\n",
       "      <td>76.00</td>\n",
       "      <td>39.4</td>\n",
       "      <td>103.6</td>\n",
       "      <td>90.9</td>\n",
       "      <td>107.7</td>\n",
       "      <td>66.2</td>\n",
       "      <td>39.2</td>\n",
       "      <td>25.9</td>\n",
       "      <td>37.2</td>\n",
       "      <td>30.2</td>\n",
       "      <td>19.0</td>\n",
       "    </tr>\n",
       "    <tr>\n",
       "      <th>302</th>\n",
       "      <td>1.0140</td>\n",
       "      <td>38.1</td>\n",
       "      <td>42</td>\n",
       "      <td>244.25</td>\n",
       "      <td>76.00</td>\n",
       "      <td>41.8</td>\n",
       "      <td>115.2</td>\n",
       "      <td>113.7</td>\n",
       "      <td>112.4</td>\n",
       "      <td>68.5</td>\n",
       "      <td>45.0</td>\n",
       "      <td>25.5</td>\n",
       "      <td>37.1</td>\n",
       "      <td>31.2</td>\n",
       "      <td>19.9</td>\n",
       "    </tr>\n",
       "    <tr>\n",
       "      <th>303</th>\n",
       "      <td>1.0754</td>\n",
       "      <td>10.3</td>\n",
       "      <td>23</td>\n",
       "      <td>188.15</td>\n",
       "      <td>77.50</td>\n",
       "      <td>38.0</td>\n",
       "      <td>96.6</td>\n",
       "      <td>85.3</td>\n",
       "      <td>102.5</td>\n",
       "      <td>59.1</td>\n",
       "      <td>37.6</td>\n",
       "      <td>23.2</td>\n",
       "      <td>31.8</td>\n",
       "      <td>29.7</td>\n",
       "      <td>18.3</td>\n",
       "    </tr>\n",
       "    <tr>\n",
       "      <th>304</th>\n",
       "      <td>1.0991</td>\n",
       "      <td>17.4</td>\n",
       "      <td>53</td>\n",
       "      <td>224.50</td>\n",
       "      <td>77.75</td>\n",
       "      <td>41.1</td>\n",
       "      <td>113.2</td>\n",
       "      <td>99.2</td>\n",
       "      <td>107.5</td>\n",
       "      <td>61.7</td>\n",
       "      <td>42.3</td>\n",
       "      <td>23.2</td>\n",
       "      <td>32.9</td>\n",
       "      <td>30.8</td>\n",
       "      <td>20.4</td>\n",
       "    </tr>\n",
       "  </tbody>\n",
       "</table>\n",
       "</div>"
      ],
      "text/plain": [
       "     Density  BodyFat  Age  Weight  Height  Neck  Chest  Abdomen    Hip  \\\n",
       "300   1.0593     17.3   43  194.00   75.50  38.5  110.1     88.7  102.1   \n",
       "301   1.0812      7.8   27  216.00   76.00  39.4  103.6     90.9  107.7   \n",
       "302   1.0140     38.1   42  244.25   76.00  41.8  115.2    113.7  112.4   \n",
       "303   1.0754     10.3   23  188.15   77.50  38.0   96.6     85.3  102.5   \n",
       "304   1.0991     17.4   53  224.50   77.75  41.1  113.2     99.2  107.5   \n",
       "\n",
       "     Thigh  Knee  Ankle  Biceps  Forearm  Wrist  \n",
       "300   57.5  40.0   24.8    35.1     30.7   19.2  \n",
       "301   66.2  39.2   25.9    37.2     30.2   19.0  \n",
       "302   68.5  45.0   25.5    37.1     31.2   19.9  \n",
       "303   59.1  37.6   23.2    31.8     29.7   18.3  \n",
       "304   61.7  42.3   23.2    32.9     30.8   20.4  "
      ]
     },
     "execution_count": 4,
     "metadata": {},
     "output_type": "execute_result"
    }
   ],
   "source": [
    "data.tail()"
   ]
  },
  {
   "cell_type": "code",
   "execution_count": 5,
   "id": "cb8d24f9-cd67-4d97-896b-d10eee8479a3",
   "metadata": {},
   "outputs": [
    {
     "data": {
      "text/html": [
       "<div>\n",
       "<style scoped>\n",
       "    .dataframe tbody tr th:only-of-type {\n",
       "        vertical-align: middle;\n",
       "    }\n",
       "\n",
       "    .dataframe tbody tr th {\n",
       "        vertical-align: top;\n",
       "    }\n",
       "\n",
       "    .dataframe thead th {\n",
       "        text-align: right;\n",
       "    }\n",
       "</style>\n",
       "<table border=\"1\" class=\"dataframe\">\n",
       "  <thead>\n",
       "    <tr style=\"text-align: right;\">\n",
       "      <th></th>\n",
       "      <th>0</th>\n",
       "      <th>1</th>\n",
       "      <th>2</th>\n",
       "      <th>3</th>\n",
       "    </tr>\n",
       "  </thead>\n",
       "  <tbody>\n",
       "    <tr>\n",
       "      <th>Density</th>\n",
       "      <td>1.025</td>\n",
       "      <td>0.995000</td>\n",
       "      <td>1.068</td>\n",
       "      <td>0.995</td>\n",
       "    </tr>\n",
       "    <tr>\n",
       "      <th>BodyFat</th>\n",
       "      <td>32.900</td>\n",
       "      <td>29.000000</td>\n",
       "      <td>13.500</td>\n",
       "      <td>47.500</td>\n",
       "    </tr>\n",
       "    <tr>\n",
       "      <th>Age</th>\n",
       "      <td>44.000</td>\n",
       "      <td>51.000000</td>\n",
       "      <td>55.000</td>\n",
       "      <td>51.000</td>\n",
       "    </tr>\n",
       "    <tr>\n",
       "      <th>Weight</th>\n",
       "      <td>205.000</td>\n",
       "      <td>219.000000</td>\n",
       "      <td>125.000</td>\n",
       "      <td>219.000</td>\n",
       "    </tr>\n",
       "    <tr>\n",
       "      <th>Height</th>\n",
       "      <td>29.500</td>\n",
       "      <td>64.000000</td>\n",
       "      <td>64.000</td>\n",
       "      <td>64.000</td>\n",
       "    </tr>\n",
       "    <tr>\n",
       "      <th>Neck</th>\n",
       "      <td>36.600</td>\n",
       "      <td>41.200001</td>\n",
       "      <td>33.200</td>\n",
       "      <td>41.200</td>\n",
       "    </tr>\n",
       "    <tr>\n",
       "      <th>Chest</th>\n",
       "      <td>106.000</td>\n",
       "      <td>119.800003</td>\n",
       "      <td>87.700</td>\n",
       "      <td>119.800</td>\n",
       "    </tr>\n",
       "    <tr>\n",
       "      <th>Abdomen</th>\n",
       "      <td>104.300</td>\n",
       "      <td>122.099998</td>\n",
       "      <td>76.000</td>\n",
       "      <td>122.100</td>\n",
       "    </tr>\n",
       "    <tr>\n",
       "      <th>Hip</th>\n",
       "      <td>115.500</td>\n",
       "      <td>112.800003</td>\n",
       "      <td>88.600</td>\n",
       "      <td>112.800</td>\n",
       "    </tr>\n",
       "    <tr>\n",
       "      <th>Thigh</th>\n",
       "      <td>70.600</td>\n",
       "      <td>62.500000</td>\n",
       "      <td>50.900</td>\n",
       "      <td>62.500</td>\n",
       "    </tr>\n",
       "    <tr>\n",
       "      <th>Knee</th>\n",
       "      <td>42.500</td>\n",
       "      <td>36.900002</td>\n",
       "      <td>35.400</td>\n",
       "      <td>36.900</td>\n",
       "    </tr>\n",
       "    <tr>\n",
       "      <th>Ankle</th>\n",
       "      <td>23.700</td>\n",
       "      <td>23.600000</td>\n",
       "      <td>19.100</td>\n",
       "      <td>23.600</td>\n",
       "    </tr>\n",
       "    <tr>\n",
       "      <th>Biceps</th>\n",
       "      <td>33.600</td>\n",
       "      <td>34.700001</td>\n",
       "      <td>29.300</td>\n",
       "      <td>34.700</td>\n",
       "    </tr>\n",
       "    <tr>\n",
       "      <th>Forearm</th>\n",
       "      <td>28.700</td>\n",
       "      <td>29.100000</td>\n",
       "      <td>25.700</td>\n",
       "      <td>29.100</td>\n",
       "    </tr>\n",
       "    <tr>\n",
       "      <th>Wrist</th>\n",
       "      <td>17.400</td>\n",
       "      <td>18.400000</td>\n",
       "      <td>16.900</td>\n",
       "      <td>18.400</td>\n",
       "    </tr>\n",
       "  </tbody>\n",
       "</table>\n",
       "</div>"
      ],
      "text/plain": [
       "               0           1        2        3\n",
       "Density    1.025    0.995000    1.068    0.995\n",
       "BodyFat   32.900   29.000000   13.500   47.500\n",
       "Age       44.000   51.000000   55.000   51.000\n",
       "Weight   205.000  219.000000  125.000  219.000\n",
       "Height    29.500   64.000000   64.000   64.000\n",
       "Neck      36.600   41.200001   33.200   41.200\n",
       "Chest    106.000  119.800003   87.700  119.800\n",
       "Abdomen  104.300  122.099998   76.000  122.100\n",
       "Hip      115.500  112.800003   88.600  112.800\n",
       "Thigh     70.600   62.500000   50.900   62.500\n",
       "Knee      42.500   36.900002   35.400   36.900\n",
       "Ankle     23.700   23.600000   19.100   23.600\n",
       "Biceps    33.600   34.700001   29.300   34.700\n",
       "Forearm   28.700   29.100000   25.700   29.100\n",
       "Wrist     17.400   18.400000   16.900   18.400"
      ]
     },
     "execution_count": 5,
     "metadata": {},
     "output_type": "execute_result"
    }
   ],
   "source": [
    "data.head(4).transpose()"
   ]
  },
  {
   "cell_type": "code",
   "execution_count": 6,
   "id": "162f9aa4-42ad-40b0-8441-c7d68c6e3a5c",
   "metadata": {},
   "outputs": [
    {
     "data": {
      "text/plain": [
       "Density    0\n",
       "BodyFat    0\n",
       "Age        0\n",
       "Weight     0\n",
       "Height     0\n",
       "Neck       0\n",
       "Chest      0\n",
       "Abdomen    0\n",
       "Hip        0\n",
       "Thigh      0\n",
       "Knee       0\n",
       "Ankle      0\n",
       "Biceps     0\n",
       "Forearm    0\n",
       "Wrist      0\n",
       "dtype: int64"
      ]
     },
     "execution_count": 6,
     "metadata": {},
     "output_type": "execute_result"
    }
   ],
   "source": [
    "#checking is there any null values\n",
    "data.isna().sum()"
   ]
  },
  {
   "cell_type": "code",
   "execution_count": 7,
   "id": "48eec0c7-e6df-45fc-818f-661dcdef73b3",
   "metadata": {},
   "outputs": [
    {
     "name": "stdout",
     "output_type": "stream",
     "text": [
      "<class 'pandas.core.frame.DataFrame'>\n",
      "RangeIndex: 305 entries, 0 to 304\n",
      "Data columns (total 15 columns):\n",
      " #   Column   Non-Null Count  Dtype  \n",
      "---  ------   --------------  -----  \n",
      " 0   Density  305 non-null    float64\n",
      " 1   BodyFat  305 non-null    float64\n",
      " 2   Age      305 non-null    int64  \n",
      " 3   Weight   305 non-null    float64\n",
      " 4   Height   305 non-null    float64\n",
      " 5   Neck     305 non-null    float64\n",
      " 6   Chest    305 non-null    float64\n",
      " 7   Abdomen  305 non-null    float64\n",
      " 8   Hip      305 non-null    float64\n",
      " 9   Thigh    305 non-null    float64\n",
      " 10  Knee     305 non-null    float64\n",
      " 11  Ankle    305 non-null    float64\n",
      " 12  Biceps   305 non-null    float64\n",
      " 13  Forearm  305 non-null    float64\n",
      " 14  Wrist    305 non-null    float64\n",
      "dtypes: float64(14), int64(1)\n",
      "memory usage: 35.9 KB\n"
     ]
    }
   ],
   "source": [
    "data.info()"
   ]
  },
  {
   "cell_type": "code",
   "execution_count": 8,
   "id": "5c9cc1ab-dd2e-4c63-8b53-8d21e47d1ea4",
   "metadata": {},
   "outputs": [
    {
     "data": {
      "text/html": [
       "<div>\n",
       "<style scoped>\n",
       "    .dataframe tbody tr th:only-of-type {\n",
       "        vertical-align: middle;\n",
       "    }\n",
       "\n",
       "    .dataframe tbody tr th {\n",
       "        vertical-align: top;\n",
       "    }\n",
       "\n",
       "    .dataframe thead th {\n",
       "        text-align: right;\n",
       "    }\n",
       "</style>\n",
       "<table border=\"1\" class=\"dataframe\">\n",
       "  <thead>\n",
       "    <tr style=\"text-align: right;\">\n",
       "      <th></th>\n",
       "      <th>Density</th>\n",
       "      <th>BodyFat</th>\n",
       "      <th>Age</th>\n",
       "      <th>Weight</th>\n",
       "      <th>Height</th>\n",
       "      <th>Neck</th>\n",
       "      <th>Chest</th>\n",
       "      <th>Abdomen</th>\n",
       "      <th>Hip</th>\n",
       "      <th>Thigh</th>\n",
       "      <th>Knee</th>\n",
       "      <th>Ankle</th>\n",
       "      <th>Biceps</th>\n",
       "      <th>Forearm</th>\n",
       "      <th>Wrist</th>\n",
       "    </tr>\n",
       "  </thead>\n",
       "  <tbody>\n",
       "    <tr>\n",
       "      <th>count</th>\n",
       "      <td>305.000000</td>\n",
       "      <td>305.000000</td>\n",
       "      <td>305.000000</td>\n",
       "      <td>305.000000</td>\n",
       "      <td>305.000000</td>\n",
       "      <td>305.000000</td>\n",
       "      <td>305.000000</td>\n",
       "      <td>305.000000</td>\n",
       "      <td>305.000000</td>\n",
       "      <td>305.000000</td>\n",
       "      <td>305.000000</td>\n",
       "      <td>305.000000</td>\n",
       "      <td>305.000000</td>\n",
       "      <td>305.000000</td>\n",
       "      <td>305.000000</td>\n",
       "    </tr>\n",
       "    <tr>\n",
       "      <th>mean</th>\n",
       "      <td>1.054871</td>\n",
       "      <td>18.835738</td>\n",
       "      <td>46.842623</td>\n",
       "      <td>179.056885</td>\n",
       "      <td>70.054098</td>\n",
       "      <td>38.055082</td>\n",
       "      <td>101.286557</td>\n",
       "      <td>93.052131</td>\n",
       "      <td>99.857705</td>\n",
       "      <td>59.228197</td>\n",
       "      <td>38.599016</td>\n",
       "      <td>23.059672</td>\n",
       "      <td>32.255738</td>\n",
       "      <td>28.634754</td>\n",
       "      <td>18.265246</td>\n",
       "    </tr>\n",
       "    <tr>\n",
       "      <th>std</th>\n",
       "      <td>0.019372</td>\n",
       "      <td>8.648395</td>\n",
       "      <td>12.779307</td>\n",
       "      <td>29.135562</td>\n",
       "      <td>3.485453</td>\n",
       "      <td>2.402722</td>\n",
       "      <td>8.587513</td>\n",
       "      <td>10.864158</td>\n",
       "      <td>7.070408</td>\n",
       "      <td>5.099696</td>\n",
       "      <td>2.447387</td>\n",
       "      <td>1.637326</td>\n",
       "      <td>3.025328</td>\n",
       "      <td>2.040311</td>\n",
       "      <td>0.934661</td>\n",
       "    </tr>\n",
       "    <tr>\n",
       "      <th>min</th>\n",
       "      <td>0.995000</td>\n",
       "      <td>0.000000</td>\n",
       "      <td>22.000000</td>\n",
       "      <td>118.500000</td>\n",
       "      <td>29.500000</td>\n",
       "      <td>31.100000</td>\n",
       "      <td>79.300000</td>\n",
       "      <td>69.400000</td>\n",
       "      <td>85.000000</td>\n",
       "      <td>47.200000</td>\n",
       "      <td>33.000000</td>\n",
       "      <td>19.100000</td>\n",
       "      <td>24.800000</td>\n",
       "      <td>21.000000</td>\n",
       "      <td>15.800000</td>\n",
       "    </tr>\n",
       "    <tr>\n",
       "      <th>25%</th>\n",
       "      <td>1.040300</td>\n",
       "      <td>11.900000</td>\n",
       "      <td>40.000000</td>\n",
       "      <td>158.250000</td>\n",
       "      <td>68.250000</td>\n",
       "      <td>36.400000</td>\n",
       "      <td>94.900000</td>\n",
       "      <td>85.300000</td>\n",
       "      <td>95.400000</td>\n",
       "      <td>56.000000</td>\n",
       "      <td>37.000000</td>\n",
       "      <td>22.000000</td>\n",
       "      <td>30.200000</td>\n",
       "      <td>27.300000</td>\n",
       "      <td>17.600000</td>\n",
       "    </tr>\n",
       "    <tr>\n",
       "      <th>50%</th>\n",
       "      <td>1.054900</td>\n",
       "      <td>18.800000</td>\n",
       "      <td>47.000000</td>\n",
       "      <td>176.250000</td>\n",
       "      <td>70.000000</td>\n",
       "      <td>38.000000</td>\n",
       "      <td>100.200000</td>\n",
       "      <td>91.600000</td>\n",
       "      <td>99.300000</td>\n",
       "      <td>58.900002</td>\n",
       "      <td>38.500000</td>\n",
       "      <td>22.800000</td>\n",
       "      <td>32.099998</td>\n",
       "      <td>28.800000</td>\n",
       "      <td>18.300000</td>\n",
       "    </tr>\n",
       "    <tr>\n",
       "      <th>75%</th>\n",
       "      <td>1.070400</td>\n",
       "      <td>25.200000</td>\n",
       "      <td>55.000000</td>\n",
       "      <td>198.250000</td>\n",
       "      <td>72.000000</td>\n",
       "      <td>39.800000</td>\n",
       "      <td>106.200000</td>\n",
       "      <td>100.000000</td>\n",
       "      <td>103.700000</td>\n",
       "      <td>62.300000</td>\n",
       "      <td>40.000000</td>\n",
       "      <td>23.900000</td>\n",
       "      <td>34.400000</td>\n",
       "      <td>30.000000</td>\n",
       "      <td>18.800000</td>\n",
       "    </tr>\n",
       "    <tr>\n",
       "      <th>max</th>\n",
       "      <td>1.108900</td>\n",
       "      <td>47.500000</td>\n",
       "      <td>81.000000</td>\n",
       "      <td>363.150000</td>\n",
       "      <td>77.750000</td>\n",
       "      <td>51.200000</td>\n",
       "      <td>136.200000</td>\n",
       "      <td>148.100000</td>\n",
       "      <td>147.700000</td>\n",
       "      <td>87.300000</td>\n",
       "      <td>49.100000</td>\n",
       "      <td>33.900000</td>\n",
       "      <td>45.000000</td>\n",
       "      <td>34.900000</td>\n",
       "      <td>21.400000</td>\n",
       "    </tr>\n",
       "  </tbody>\n",
       "</table>\n",
       "</div>"
      ],
      "text/plain": [
       "          Density     BodyFat         Age      Weight      Height        Neck  \\\n",
       "count  305.000000  305.000000  305.000000  305.000000  305.000000  305.000000   \n",
       "mean     1.054871   18.835738   46.842623  179.056885   70.054098   38.055082   \n",
       "std      0.019372    8.648395   12.779307   29.135562    3.485453    2.402722   \n",
       "min      0.995000    0.000000   22.000000  118.500000   29.500000   31.100000   \n",
       "25%      1.040300   11.900000   40.000000  158.250000   68.250000   36.400000   \n",
       "50%      1.054900   18.800000   47.000000  176.250000   70.000000   38.000000   \n",
       "75%      1.070400   25.200000   55.000000  198.250000   72.000000   39.800000   \n",
       "max      1.108900   47.500000   81.000000  363.150000   77.750000   51.200000   \n",
       "\n",
       "            Chest     Abdomen         Hip       Thigh        Knee       Ankle  \\\n",
       "count  305.000000  305.000000  305.000000  305.000000  305.000000  305.000000   \n",
       "mean   101.286557   93.052131   99.857705   59.228197   38.599016   23.059672   \n",
       "std      8.587513   10.864158    7.070408    5.099696    2.447387    1.637326   \n",
       "min     79.300000   69.400000   85.000000   47.200000   33.000000   19.100000   \n",
       "25%     94.900000   85.300000   95.400000   56.000000   37.000000   22.000000   \n",
       "50%    100.200000   91.600000   99.300000   58.900002   38.500000   22.800000   \n",
       "75%    106.200000  100.000000  103.700000   62.300000   40.000000   23.900000   \n",
       "max    136.200000  148.100000  147.700000   87.300000   49.100000   33.900000   \n",
       "\n",
       "           Biceps     Forearm       Wrist  \n",
       "count  305.000000  305.000000  305.000000  \n",
       "mean    32.255738   28.634754   18.265246  \n",
       "std      3.025328    2.040311    0.934661  \n",
       "min     24.800000   21.000000   15.800000  \n",
       "25%     30.200000   27.300000   17.600000  \n",
       "50%     32.099998   28.800000   18.300000  \n",
       "75%     34.400000   30.000000   18.800000  \n",
       "max     45.000000   34.900000   21.400000  "
      ]
     },
     "execution_count": 8,
     "metadata": {},
     "output_type": "execute_result"
    }
   ],
   "source": [
    "data.describe()"
   ]
  },
  {
   "cell_type": "code",
   "execution_count": 9,
   "id": "e1f7bdad-2257-4ded-a288-abfd983ad26c",
   "metadata": {},
   "outputs": [
    {
     "data": {
      "text/plain": [
       "(305, 15)"
      ]
     },
     "execution_count": 9,
     "metadata": {},
     "output_type": "execute_result"
    }
   ],
   "source": [
    "data.shape"
   ]
  },
  {
   "cell_type": "code",
   "execution_count": 59,
   "id": "c7270572-2c5c-4c9b-ae9a-962e8eb2f6fe",
   "metadata": {},
   "outputs": [
    {
     "data": {
      "text/plain": [
       "43    17\n",
       "40    17\n",
       "55    15\n",
       "47    14\n",
       "44    13\n",
       "42    12\n",
       "49    12\n",
       "54    11\n",
       "41    10\n",
       "35    10\n",
       "50     9\n",
       "72     8\n",
       "51     8\n",
       "28     7\n",
       "62     7\n",
       "27     7\n",
       "26     6\n",
       "Name: Age, dtype: int64"
      ]
     },
     "execution_count": 59,
     "metadata": {},
     "output_type": "execute_result"
    }
   ],
   "source": [
    "data.Age.value_counts()[:17]"
   ]
  },
  {
   "cell_type": "code",
   "execution_count": 60,
   "id": "496a4ae7-8e87-4c20-aa4b-62da0dc92edc",
   "metadata": {},
   "outputs": [
    {
     "data": {
      "image/png": "[encoded data removed]",
      "text/plain": [
       "<Figure size 648x432 with 1 Axes>"
      ]
     },
     "metadata": {
      "needs_background": "light"
     },
     "output_type": "display_data"
    }
   ],
   "source": [
    "data[\"Age\"].value_counts().plot(kind=\"bar\",figsize=(9,6));"
   ]
  },
  {
   "cell_type": "code",
   "execution_count": 12,
   "id": "13b3e5f4-7f1e-45f7-b5fa-7762db412902",
   "metadata": {},
   "outputs": [
    {
     "data": {
      "text/plain": [
       "<AxesSubplot:>"
      ]
     },
     "execution_count": 12,
     "metadata": {},
     "output_type": "execute_result"
    },
    {
     "data": {
      "image/png": "[encoded data removed]",
      "text/plain": [
       "<Figure size 432x288 with 1 Axes>"
      ]
     },
     "metadata": {
      "needs_background": "light"
     },
     "output_type": "display_data"
    }
   ],
   "source": [
    "data[\"Weight\"].hist()"
   ]
  },
  {
   "cell_type": "code",
   "execution_count": 13,
   "id": "5ea98e57-8f00-4548-ae69-67d47e5187cf",
   "metadata": {},
   "outputs": [
    {
     "data": {
      "text/plain": [
       "<AxesSubplot:ylabel='Frequency'>"
      ]
     },
     "execution_count": 13,
     "metadata": {},
     "output_type": "execute_result"
    },
    {
     "data": {
      "image/png": "[encoded data removed]",
      "text/plain": [
       "<Figure size 432x288 with 1 Axes>"
      ]
     },
     "metadata": {
      "needs_background": "light"
     },
     "output_type": "display_data"
    }
   ],
   "source": [
    "data[\"BodyFat\"].value_counts().plot(kind=\"hist\")"
   ]
  },
  {
   "cell_type": "code",
   "execution_count": 61,
   "id": "dbae71cc-380b-4009-896d-b5060b6ce1f6",
   "metadata": {},
   "outputs": [
    {
     "data": {
      "image/png": "[encoded data removed]",
      "text/plain": [
       "<Figure size 648x720 with 15 Axes>"
      ]
     },
     "metadata": {
      "needs_background": "light"
     },
     "output_type": "display_data"
    }
   ],
   "source": [
    "data.plot.bar(subplots=True,figsize=(9,10));"
   ]
  },
  {
   "cell_type": "code",
   "execution_count": 15,
   "id": "9a439ffa-ecbe-40f6-a9ac-3d4ef3cc45cd",
   "metadata": {},
   "outputs": [
    {
     "data": {
      "text/plain": [
       "<BarContainer object of 305 artists>"
      ]
     },
     "execution_count": 15,
     "metadata": {},
     "output_type": "execute_result"
    },
    {
     "data": {
      "image/png": "[encoded data removed]",
      "text/plain": [
       "<Figure size 432x288 with 1 Axes>"
      ]
     },
     "metadata": {
      "needs_background": "light"
     },
     "output_type": "display_data"
    }
   ],
   "source": [
    "plt.bar(data[\"Age\"],data[\"BodyFat\"])"
   ]
  },
  {
   "cell_type": "code",
   "execution_count": 16,
   "id": "4671e87c-060b-4e47-8785-9fb3f0622c33",
   "metadata": {},
   "outputs": [
    {
     "data": {
      "text/plain": [
       "<AxesSubplot:>"
      ]
     },
     "execution_count": 16,
     "metadata": {},
     "output_type": "execute_result"
    },
    {
     "data": {
      "image/png": "[encoded data removed]",
      "text/plain": [
       "<Figure size 432x288 with 1 Axes>"
      ]
     },
     "metadata": {
      "needs_background": "light"
     },
     "output_type": "display_data"
    }
   ],
   "source": [
    "data[\"Weight\"].hist()"
   ]
  },
  {
   "cell_type": "code",
   "execution_count": 17,
   "id": "416dd2d5-c4ce-45f8-8c21-fe5a04b3a968",
   "metadata": {},
   "outputs": [],
   "source": [
    " corr_matrix=data.corr()"
   ]
  },
  {
   "cell_type": "code",
   "execution_count": 62,
   "id": "24b80c7d-dc8f-4415-9f97-8208f5658866",
   "metadata": {},
   "outputs": [
    {
     "data": {
      "image/png": "[encoded data removed]",
      "text/plain": [
       "<Figure size 936x648 with 2 Axes>"
      ]
     },
     "metadata": {
      "needs_background": "light"
     },
     "output_type": "display_data"
    }
   ],
   "source": [
    "corr_matrix=data.corr()\n",
    "fig,ax=plt.subplots(figsize=(13,9))\n",
    "ax=sns.heatmap(corr_matrix,\n",
    "              annot=True,\n",
    "              linewidth=0.5,\n",
    "              fmt=\".2f\",cmap=\"YlGnBu\")"
   ]
  },
  {
   "cell_type": "code",
   "execution_count": 19,
   "id": "6e711aae-154e-477d-99a2-06cc605c155a",
   "metadata": {},
   "outputs": [
    {
     "data": {
      "text/html": [
       "<div>\n",
       "<style scoped>\n",
       "    .dataframe tbody tr th:only-of-type {\n",
       "        vertical-align: middle;\n",
       "    }\n",
       "\n",
       "    .dataframe tbody tr th {\n",
       "        vertical-align: top;\n",
       "    }\n",
       "\n",
       "    .dataframe thead th {\n",
       "        text-align: right;\n",
       "    }\n",
       "</style>\n",
       "<table border=\"1\" class=\"dataframe\">\n",
       "  <thead>\n",
       "    <tr style=\"text-align: right;\">\n",
       "      <th></th>\n",
       "      <th>Density</th>\n",
       "      <th>BodyFat</th>\n",
       "      <th>Age</th>\n",
       "      <th>Weight</th>\n",
       "      <th>Height</th>\n",
       "      <th>Neck</th>\n",
       "      <th>Chest</th>\n",
       "      <th>Abdomen</th>\n",
       "      <th>Hip</th>\n",
       "      <th>Thigh</th>\n",
       "      <th>Knee</th>\n",
       "      <th>Ankle</th>\n",
       "      <th>Biceps</th>\n",
       "      <th>Forearm</th>\n",
       "      <th>Wrist</th>\n",
       "    </tr>\n",
       "  </thead>\n",
       "  <tbody>\n",
       "    <tr>\n",
       "      <th>0</th>\n",
       "      <td>1.025</td>\n",
       "      <td>32.9</td>\n",
       "      <td>44</td>\n",
       "      <td>205.00</td>\n",
       "      <td>29.50</td>\n",
       "      <td>36.600000</td>\n",
       "      <td>106.000000</td>\n",
       "      <td>104.300000</td>\n",
       "      <td>115.500000</td>\n",
       "      <td>70.6</td>\n",
       "      <td>42.500000</td>\n",
       "      <td>23.7</td>\n",
       "      <td>33.600000</td>\n",
       "      <td>28.7</td>\n",
       "      <td>17.4</td>\n",
       "    </tr>\n",
       "    <tr>\n",
       "      <th>1</th>\n",
       "      <td>0.995</td>\n",
       "      <td>29.0</td>\n",
       "      <td>51</td>\n",
       "      <td>219.00</td>\n",
       "      <td>64.00</td>\n",
       "      <td>41.200001</td>\n",
       "      <td>119.800003</td>\n",
       "      <td>122.099998</td>\n",
       "      <td>112.800003</td>\n",
       "      <td>62.5</td>\n",
       "      <td>36.900002</td>\n",
       "      <td>23.6</td>\n",
       "      <td>34.700001</td>\n",
       "      <td>29.1</td>\n",
       "      <td>18.4</td>\n",
       "    </tr>\n",
       "    <tr>\n",
       "      <th>2</th>\n",
       "      <td>1.068</td>\n",
       "      <td>13.5</td>\n",
       "      <td>55</td>\n",
       "      <td>125.00</td>\n",
       "      <td>64.00</td>\n",
       "      <td>33.200000</td>\n",
       "      <td>87.700000</td>\n",
       "      <td>76.000000</td>\n",
       "      <td>88.600000</td>\n",
       "      <td>50.9</td>\n",
       "      <td>35.400000</td>\n",
       "      <td>19.1</td>\n",
       "      <td>29.300000</td>\n",
       "      <td>25.7</td>\n",
       "      <td>16.9</td>\n",
       "    </tr>\n",
       "    <tr>\n",
       "      <th>3</th>\n",
       "      <td>0.995</td>\n",
       "      <td>47.5</td>\n",
       "      <td>51</td>\n",
       "      <td>219.00</td>\n",
       "      <td>64.00</td>\n",
       "      <td>41.200000</td>\n",
       "      <td>119.800000</td>\n",
       "      <td>122.100000</td>\n",
       "      <td>112.800000</td>\n",
       "      <td>62.5</td>\n",
       "      <td>36.900000</td>\n",
       "      <td>23.6</td>\n",
       "      <td>34.700000</td>\n",
       "      <td>29.1</td>\n",
       "      <td>18.4</td>\n",
       "    </tr>\n",
       "    <tr>\n",
       "      <th>4</th>\n",
       "      <td>1.091</td>\n",
       "      <td>3.7</td>\n",
       "      <td>27</td>\n",
       "      <td>133.25</td>\n",
       "      <td>64.75</td>\n",
       "      <td>36.400000</td>\n",
       "      <td>93.500000</td>\n",
       "      <td>73.900000</td>\n",
       "      <td>88.500000</td>\n",
       "      <td>50.1</td>\n",
       "      <td>34.500000</td>\n",
       "      <td>21.3</td>\n",
       "      <td>30.500000</td>\n",
       "      <td>27.9</td>\n",
       "      <td>17.2</td>\n",
       "    </tr>\n",
       "  </tbody>\n",
       "</table>\n",
       "</div>"
      ],
      "text/plain": [
       "   Density  BodyFat  Age  Weight  Height       Neck       Chest     Abdomen  \\\n",
       "0    1.025     32.9   44  205.00   29.50  36.600000  106.000000  104.300000   \n",
       "1    0.995     29.0   51  219.00   64.00  41.200001  119.800003  122.099998   \n",
       "2    1.068     13.5   55  125.00   64.00  33.200000   87.700000   76.000000   \n",
       "3    0.995     47.5   51  219.00   64.00  41.200000  119.800000  122.100000   \n",
       "4    1.091      3.7   27  133.25   64.75  36.400000   93.500000   73.900000   \n",
       "\n",
       "          Hip  Thigh       Knee  Ankle     Biceps  Forearm  Wrist  \n",
       "0  115.500000   70.6  42.500000   23.7  33.600000     28.7   17.4  \n",
       "1  112.800003   62.5  36.900002   23.6  34.700001     29.1   18.4  \n",
       "2   88.600000   50.9  35.400000   19.1  29.300000     25.7   16.9  \n",
       "3  112.800000   62.5  36.900000   23.6  34.700000     29.1   18.4  \n",
       "4   88.500000   50.1  34.500000   21.3  30.500000     27.9   17.2  "
      ]
     },
     "execution_count": 19,
     "metadata": {},
     "output_type": "execute_result"
    }
   ],
   "source": [
    "data.head()"
   ]
  },
  {
   "cell_type": "code",
   "execution_count": 20,
   "id": "04885b96-c01c-4ec9-b059-0931c61bf58a",
   "metadata": {},
   "outputs": [],
   "source": [
    "x=data.drop(\"BodyFat\",axis=1)"
   ]
  },
  {
   "cell_type": "code",
   "execution_count": 21,
   "id": "0732f328-2b42-41b5-8502-df16344b9d55",
   "metadata": {},
   "outputs": [],
   "source": [
    "y=data[\"BodyFat\"]"
   ]
  },
  {
   "cell_type": "code",
   "execution_count": 22,
   "id": "1baca4fc-3ca8-43b5-86b0-125a933b8c7f",
   "metadata": {},
   "outputs": [
    {
     "data": {
      "text/html": [
       "<div>\n",
       "<style scoped>\n",
       "    .dataframe tbody tr th:only-of-type {\n",
       "        vertical-align: middle;\n",
       "    }\n",
       "\n",
       "    .dataframe tbody tr th {\n",
       "        vertical-align: top;\n",
       "    }\n",
       "\n",
       "    .dataframe thead th {\n",
       "        text-align: right;\n",
       "    }\n",
       "</style>\n",
       "<table border=\"1\" class=\"dataframe\">\n",
       "  <thead>\n",
       "    <tr style=\"text-align: right;\">\n",
       "      <th></th>\n",
       "      <th>Density</th>\n",
       "      <th>Age</th>\n",
       "      <th>Weight</th>\n",
       "      <th>Height</th>\n",
       "      <th>Neck</th>\n",
       "      <th>Chest</th>\n",
       "      <th>Abdomen</th>\n",
       "      <th>Hip</th>\n",
       "      <th>Thigh</th>\n",
       "      <th>Knee</th>\n",
       "      <th>Ankle</th>\n",
       "      <th>Biceps</th>\n",
       "      <th>Forearm</th>\n",
       "      <th>Wrist</th>\n",
       "    </tr>\n",
       "  </thead>\n",
       "  <tbody>\n",
       "    <tr>\n",
       "      <th>0</th>\n",
       "      <td>1.025</td>\n",
       "      <td>44</td>\n",
       "      <td>205.00</td>\n",
       "      <td>29.50</td>\n",
       "      <td>36.600000</td>\n",
       "      <td>106.000000</td>\n",
       "      <td>104.300000</td>\n",
       "      <td>115.500000</td>\n",
       "      <td>70.6</td>\n",
       "      <td>42.500000</td>\n",
       "      <td>23.7</td>\n",
       "      <td>33.600000</td>\n",
       "      <td>28.7</td>\n",
       "      <td>17.4</td>\n",
       "    </tr>\n",
       "    <tr>\n",
       "      <th>1</th>\n",
       "      <td>0.995</td>\n",
       "      <td>51</td>\n",
       "      <td>219.00</td>\n",
       "      <td>64.00</td>\n",
       "      <td>41.200001</td>\n",
       "      <td>119.800003</td>\n",
       "      <td>122.099998</td>\n",
       "      <td>112.800003</td>\n",
       "      <td>62.5</td>\n",
       "      <td>36.900002</td>\n",
       "      <td>23.6</td>\n",
       "      <td>34.700001</td>\n",
       "      <td>29.1</td>\n",
       "      <td>18.4</td>\n",
       "    </tr>\n",
       "    <tr>\n",
       "      <th>2</th>\n",
       "      <td>1.068</td>\n",
       "      <td>55</td>\n",
       "      <td>125.00</td>\n",
       "      <td>64.00</td>\n",
       "      <td>33.200000</td>\n",
       "      <td>87.700000</td>\n",
       "      <td>76.000000</td>\n",
       "      <td>88.600000</td>\n",
       "      <td>50.9</td>\n",
       "      <td>35.400000</td>\n",
       "      <td>19.1</td>\n",
       "      <td>29.300000</td>\n",
       "      <td>25.7</td>\n",
       "      <td>16.9</td>\n",
       "    </tr>\n",
       "    <tr>\n",
       "      <th>3</th>\n",
       "      <td>0.995</td>\n",
       "      <td>51</td>\n",
       "      <td>219.00</td>\n",
       "      <td>64.00</td>\n",
       "      <td>41.200000</td>\n",
       "      <td>119.800000</td>\n",
       "      <td>122.100000</td>\n",
       "      <td>112.800000</td>\n",
       "      <td>62.5</td>\n",
       "      <td>36.900000</td>\n",
       "      <td>23.6</td>\n",
       "      <td>34.700000</td>\n",
       "      <td>29.1</td>\n",
       "      <td>18.4</td>\n",
       "    </tr>\n",
       "    <tr>\n",
       "      <th>4</th>\n",
       "      <td>1.091</td>\n",
       "      <td>27</td>\n",
       "      <td>133.25</td>\n",
       "      <td>64.75</td>\n",
       "      <td>36.400000</td>\n",
       "      <td>93.500000</td>\n",
       "      <td>73.900000</td>\n",
       "      <td>88.500000</td>\n",
       "      <td>50.1</td>\n",
       "      <td>34.500000</td>\n",
       "      <td>21.3</td>\n",
       "      <td>30.500000</td>\n",
       "      <td>27.9</td>\n",
       "      <td>17.2</td>\n",
       "    </tr>\n",
       "  </tbody>\n",
       "</table>\n",
       "</div>"
      ],
      "text/plain": [
       "   Density  Age  Weight  Height       Neck       Chest     Abdomen  \\\n",
       "0    1.025   44  205.00   29.50  36.600000  106.000000  104.300000   \n",
       "1    0.995   51  219.00   64.00  41.200001  119.800003  122.099998   \n",
       "2    1.068   55  125.00   64.00  33.200000   87.700000   76.000000   \n",
       "3    0.995   51  219.00   64.00  41.200000  119.800000  122.100000   \n",
       "4    1.091   27  133.25   64.75  36.400000   93.500000   73.900000   \n",
       "\n",
       "          Hip  Thigh       Knee  Ankle     Biceps  Forearm  Wrist  \n",
       "0  115.500000   70.6  42.500000   23.7  33.600000     28.7   17.4  \n",
       "1  112.800003   62.5  36.900002   23.6  34.700001     29.1   18.4  \n",
       "2   88.600000   50.9  35.400000   19.1  29.300000     25.7   16.9  \n",
       "3  112.800000   62.5  36.900000   23.6  34.700000     29.1   18.4  \n",
       "4   88.500000   50.1  34.500000   21.3  30.500000     27.9   17.2  "
      ]
     },
     "execution_count": 22,
     "metadata": {},
     "output_type": "execute_result"
    }
   ],
   "source": [
    "x.head()"
   ]
  },
  {
   "cell_type": "code",
   "execution_count": 23,
   "id": "17bd4450-5133-41d9-be40-bf5f162cdb8e",
   "metadata": {},
   "outputs": [
    {
     "data": {
      "text/plain": [
       "(305, 14)"
      ]
     },
     "execution_count": 23,
     "metadata": {},
     "output_type": "execute_result"
    }
   ],
   "source": [
    "x.shape"
   ]
  },
  {
   "cell_type": "code",
   "execution_count": 24,
   "id": "4482e57f-22b8-41ce-8857-411e62630583",
   "metadata": {},
   "outputs": [
    {
     "data": {
      "text/plain": [
       "0    32.9\n",
       "1    29.0\n",
       "2    13.5\n",
       "3    47.5\n",
       "4     3.7\n",
       "Name: BodyFat, dtype: float64"
      ]
     },
     "execution_count": 24,
     "metadata": {},
     "output_type": "execute_result"
    }
   ],
   "source": [
    "y.head()"
   ]
  },
  {
   "cell_type": "code",
   "execution_count": 25,
   "id": "bee8abf9-c0c1-42fd-8669-40d9aa167cdc",
   "metadata": {},
   "outputs": [],
   "source": [
    "#dividing the data into the training and testing split"
   ]
  },
  {
   "cell_type": "code",
   "execution_count": 63,
   "id": "68e92aeb-72d7-4615-992a-7d327b8576cc",
   "metadata": {},
   "outputs": [],
   "source": [
    "from sklearn.model_selection import train_test_split\n",
    "x_train,x_test,y_train,y_test=train_test_split(x,y,\n",
    "                                              test_size=0.4,\n",
    "                                              random_state=44)"
   ]
  },
  {
   "cell_type": "code",
   "execution_count": 27,
   "id": "b2cce258-ffcd-4208-8ba1-90256b2d433f",
   "metadata": {},
   "outputs": [
    {
     "data": {
      "text/plain": [
       "((183, 14), (122, 14))"
      ]
     },
     "execution_count": 64,
     "metadata": {},
     "output_type": "execute_result"
    }
   ],
   "source": [
    "x_train.shape,x_test.shape"
   ]
  },
  {
   "cell_type": "code",
   "execution_count": 28,
   "id": "f8baafdc-d1df-44e1-8665-5ea31e5fc095",
   "metadata": {},
   "outputs": [
    {
     "data": {
      "text/plain": [
       "((183,), (122,))"
      ]
     },
     "execution_count": 65,
     "metadata": {},
     "output_type": "execute_result"
    }
   ],
   "source": [
    "y_train.shape,y_test.shape"
   ]
  },
  {
   "cell_type": "code",
   "execution_count": 29,
   "id": "6add0986-a879-48d0-8744-f2b355527877",
   "metadata": {},
   "outputs": [],
   "source": [
    "from sklearn.linear_model import LinearRegression"
   ]
  },
  {
   "cell_type": "code",
   "execution_count": 30,
   "id": "1059b82f-0909-482b-a9bf-17986aaa69d3",
   "metadata": {},
   "outputs": [],
   "source": [
    "model=LinearRegression()"
   ]
  },
  {
   "cell_type": "code",
   "execution_count": 31,
   "id": "42ba0ba4-8ebf-4b57-b1e0-9245d85027b9",
   "metadata": {},
   "outputs": [],
   "source": [
    "#importing the Evolution metrics in the Regression problem"
   ]
  },
  {
   "cell_type": "code",
   "execution_count": 33,
   "id": "f0d3a5ef-5008-4678-a2ff-af5050042fcd",
   "metadata": {},
   "outputs": [],
   "source": [
    "from sklearn.metrics import mean_absolute_error,mean_squared_error,r2_score, mean_squared_log_error"
   ]
  },
  {
   "cell_type": "code",
   "execution_count": 34,
   "id": "c2af561c-e88e-417f-85da-8e22f3ea2d22",
   "metadata": {},
   "outputs": [
    {
     "data": {
      "text/plain": [
       "LinearRegression()"
      ]
     },
     "execution_count": 34,
     "metadata": {},
     "output_type": "execute_result"
    }
   ],
   "source": [
    "model.fit(x_train,y_train)"
   ]
  },
  {
   "cell_type": "code",
   "execution_count": 35,
   "id": "1b501320-54f7-466b-8f27-67eed0d5318b",
   "metadata": {},
   "outputs": [],
   "source": [
    "y_pred=model.predict(x_test)"
   ]
  },
  {
   "cell_type": "code",
   "execution_count": 36,
   "id": "b221c8ef-81d3-42b1-9440-fc074689b4c2",
   "metadata": {},
   "outputs": [
    {
     "data": {
      "text/plain": [
       "array([21.35132907, 25.25697731, 21.34561718, 18.7317067 , 16.15030584,\n",
       "       11.64544603, 16.14709023, 28.00321844, 28.35520848, 14.93349785,\n",
       "       36.47852001, 10.66932072, 22.51095991, 12.38966666, 16.7821996 ,\n",
       "       16.82723024, 11.53251695, 14.08194546, 18.36283843, 29.75925528,\n",
       "       22.47289919, 20.47977077, 11.74912712,  7.32713773, 28.00322926,\n",
       "       28.25726229, 28.88050133, 14.83601328, 12.52496711, 24.72713291,\n",
       "       24.80727593, 15.9390786 , 19.91048816, 26.35177399, 17.79214548,\n",
       "       26.73739915, 26.33349   , 25.90400972, 14.41973264, 16.8272447 ,\n",
       "       33.16267011, 16.04456893, 23.81869056, 21.92284967,  3.29228819,\n",
       "       25.95365705, 25.50553052, 21.88115542, 17.17654971, 35.82312287,\n",
       "       22.4251415 , 15.55725175, 17.20390334, 16.00577849, 25.07360662,\n",
       "        9.97925621, 18.97370371, 21.92283537, 32.266781  , 19.89080623,\n",
       "       21.84632678])"
      ]
     },
     "execution_count": 36,
     "metadata": {},
     "output_type": "execute_result"
    }
   ],
   "source": [
    "y_pred"
   ]
  },
  {
   "cell_type": "code",
   "execution_count": 37,
   "id": "2fda6f12-89e0-4127-8401-830070ed5db6",
   "metadata": {},
   "outputs": [],
   "source": [
    "r2=r2_score(y_test,y_pred)"
   ]
  },
  {
   "cell_type": "code",
   "execution_count": 68,
   "id": "68d90c14-f6ad-4fea-91c2-5bacc88b24b4",
   "metadata": {},
   "outputs": [
    {
     "data": {
      "text/plain": [
       "0.5675525940245472"
      ]
     },
     "execution_count": 68,
     "metadata": {},
     "output_type": "execute_result"
    }
   ],
   "source": [
    "r2"
   ]
  },
  {
   "cell_type": "code",
   "execution_count": 39,
   "id": "c9ac115f-a909-447f-a887-d959cc0a06d2",
   "metadata": {},
   "outputs": [],
   "source": [
    "mae=mean_absolute_error(y_test,y_pred)"
   ]
  },
  {
   "cell_type": "code",
   "execution_count": 40,
   "id": "7a857a8b-06f4-4106-badc-902c58def3e3",
   "metadata": {},
   "outputs": [
    {
     "data": {
      "text/plain": [
       "3.994480953968701"
      ]
     },
     "execution_count": 40,
     "metadata": {},
     "output_type": "execute_result"
    }
   ],
   "source": [
    "mae"
   ]
  },
  {
   "cell_type": "code",
   "execution_count": 41,
   "id": "8b9d57c7-dc0a-4bff-a2f1-98036869f62e",
   "metadata": {},
   "outputs": [],
   "source": [
    "mse=mean_squared_error(y_test,y_pred)"
   ]
  },
  {
   "cell_type": "code",
   "execution_count": 42,
   "id": "3f98aa36-8260-4984-902e-7b8a056f304e",
   "metadata": {},
   "outputs": [
    {
     "data": {
      "text/plain": [
       "40.2358945054769"
      ]
     },
     "execution_count": 42,
     "metadata": {},
     "output_type": "execute_result"
    }
   ],
   "source": [
    "mse"
   ]
  },
  {
   "cell_type": "code",
   "execution_count": 43,
   "id": "eeccd242-ee85-427a-8054-b6723adb56ae",
   "metadata": {},
   "outputs": [],
   "source": [
    "msle=mean_squared_log_error(y_test,y_pred)"
   ]
  },
  {
   "cell_type": "code",
   "execution_count": 44,
   "id": "525e371e-928e-483b-9097-5827078c1673",
   "metadata": {},
   "outputs": [
    {
     "data": {
      "text/plain": [
       "0.18137351285576198"
      ]
     },
     "execution_count": 44,
     "metadata": {},
     "output_type": "execute_result"
    }
   ],
   "source": [
    "msle"
   ]
  },
  {
   "cell_type": "code",
   "execution_count": 45,
   "id": "695cf7c9-f7b0-42bd-a0bf-d3b0f6cc6ab5",
   "metadata": {},
   "outputs": [
    {
     "data": {
      "text/plain": [
       "0.5675525940245472"
      ]
     },
     "execution_count": 45,
     "metadata": {},
     "output_type": "execute_result"
    }
   ],
   "source": [
    "model.score(x_test,y_test)"
   ]
  },
  {
   "cell_type": "code",
   "execution_count": 46,
   "id": "fcd2710c-f5ec-4624-bf08-6d38162f0615",
   "metadata": {},
   "outputs": [],
   "source": [
    "#checking with the RandomForest\n",
    "from sklearn.ensemble import RandomForestRegressor"
   ]
  },
  {
   "cell_type": "code",
   "execution_count": 47,
   "id": "7ac021f0-71c5-409d-af19-3d8a05aa8668",
   "metadata": {},
   "outputs": [],
   "source": [
    "model_2=RandomForestRegressor()"
   ]
  },
  {
   "cell_type": "code",
   "execution_count": 48,
   "id": "5a804b9c-f16e-44b7-bf96-5cfd4c28e883",
   "metadata": {},
   "outputs": [
    {
     "data": {
      "text/plain": [
       "RandomForestRegressor()"
      ]
     },
     "execution_count": 48,
     "metadata": {},
     "output_type": "execute_result"
    }
   ],
   "source": [
    "model_2.fit(x_train,y_train)"
   ]
  },
  {
   "cell_type": "code",
   "execution_count": 49,
   "id": "f2f920e4-fe79-47b1-afc2-63c052cd3111",
   "metadata": {},
   "outputs": [],
   "source": [
    "y_pred2=model_2.predict(x_test)"
   ]
  },
  {
   "cell_type": "code",
   "execution_count": 50,
   "id": "ed23adc3-3abe-45a1-98b8-c6949f703246",
   "metadata": {},
   "outputs": [
    {
     "data": {
      "text/plain": [
       "array([21.73675   , 26.61515   , 21.523     , 20.43363333, 15.75866667,\n",
       "       10.517     , 15.04616667, 23.26898333, 28.42141667, 14.4337    ])"
      ]
     },
     "execution_count": 50,
     "metadata": {},
     "output_type": "execute_result"
    }
   ],
   "source": [
    "y_pred2[:10]"
   ]
  },
  {
   "cell_type": "code",
   "execution_count": 51,
   "id": "dcb9d5b8-1033-4753-ac5e-e023a170c22f",
   "metadata": {},
   "outputs": [],
   "source": [
    "r_2=r2_score(y_test,y_pred2)"
   ]
  },
  {
   "cell_type": "code",
   "execution_count": 52,
   "id": "1d557205-69dc-416e-a91b-a4fbf7d2bc7d",
   "metadata": {},
   "outputs": [
    {
     "data": {
      "text/plain": [
       "0.45507006986412957"
      ]
     },
     "execution_count": 52,
     "metadata": {},
     "output_type": "execute_result"
    }
   ],
   "source": [
    "r_2"
   ]
  },
  {
   "cell_type": "code",
   "execution_count": 53,
   "id": "fb8fad61-f001-460e-a3f7-2704561b7f8e",
   "metadata": {},
   "outputs": [],
   "source": [
    "mae_2=mean_absolute_error(y_test,y_pred2)"
   ]
  },
  {
   "cell_type": "code",
   "execution_count": 54,
   "id": "9cd72c9f-5022-40d4-a53c-6a140edf13bd",
   "metadata": {},
   "outputs": [
    {
     "data": {
      "text/plain": [
       "4.569740437158467"
      ]
     },
     "execution_count": 54,
     "metadata": {},
     "output_type": "execute_result"
    }
   ],
   "source": [
    "mae_2"
   ]
  },
  {
   "cell_type": "code",
   "execution_count": 55,
   "id": "8a99f815-ed41-43c4-98c4-f6097d445043",
   "metadata": {},
   "outputs": [],
   "source": [
    "mse_2=mean_squared_error(y_test,y_pred2)"
   ]
  },
  {
   "cell_type": "code",
   "execution_count": 56,
   "id": "1c37b484-3a06-49e0-9171-5f3a85353de2",
   "metadata": {},
   "outputs": [
    {
     "data": {
      "text/plain": [
       "50.70152550081051"
      ]
     },
     "execution_count": 56,
     "metadata": {},
     "output_type": "execute_result"
    }
   ],
   "source": [
    "mse_2"
   ]
  },
  {
   "cell_type": "code",
   "execution_count": 57,
   "id": "a854e369-66ba-4618-8d7f-62a6e855d304",
   "metadata": {},
   "outputs": [
    {
     "data": {
      "text/plain": [
       "0.45507006986412957"
      ]
     },
     "execution_count": 57,
     "metadata": {},
     "output_type": "execute_result"
    }
   ],
   "source": [
    "model_2.score(x_test,y_test)"
   ]
  }
 ],
 "metadata": {
  "kernelspec": {
   "display_name": "Python 3 (ipykernel)",
   "language": "python",
   "name": "python3"
  },
  "language_info": {
   "codemirror_mode": {
    "name": "ipython",
    "version": 3
   },
   "file_extension": ".py",
   "mimetype": "text/x-python",
   "name": "python",
   "nbconvert_exporter": "python",
   "pygments_lexer": "ipython3",
   "version": "3.9.12"
  }
 },
 "nbformat": 4,
 "nbformat_minor": 5
}
